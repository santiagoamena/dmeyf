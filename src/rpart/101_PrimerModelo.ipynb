{
 "cells": [
  {
   "cell_type": "markdown",
   "source": [
    "Arbol elemental con libreria  rpart"
   ],
   "metadata": {}
  },
  {
   "cell_type": "code",
   "execution_count": null,
   "source": [
    "require(\"data.table\")\r\n",
    "require(\"rpart\")"
   ],
   "outputs": [],
   "metadata": {}
  },
  {
   "cell_type": "code",
   "execution_count": null,
   "source": [
    "#Aqui se debe poner la carpeta de la computadora local\r\n",
    "setwd(\"M:\\\\\")  #Establezco el Working Directory"
   ],
   "outputs": [],
   "metadata": {}
  },
  {
   "cell_type": "markdown",
   "source": [
    "cargo los datos de 202009 que es donde voy a ENTRENAR el modelo"
   ],
   "metadata": {}
  },
  {
   "cell_type": "code",
   "execution_count": null,
   "source": [
    "dtrain  <- fread(\"./datasetsOri/paquete_premium_202009.csv\")"
   ],
   "outputs": [],
   "metadata": {}
  },
  {
   "cell_type": "raw",
   "source": [
    "Genero el modelo, llamando a la funcion  rpart"
   ],
   "metadata": {}
  },
  {
   "cell_type": "code",
   "execution_count": null,
   "source": [
    "modelo  <- rpart(\"clase_ternaria ~ .\",\r\n",
    "                 data = dtrain,\r\n",
    "                 xval=0,\r\n",
    "                 cp=        -0.3, \r\n",
    "                 minsplit=  100,\r\n",
    "                 minbucket=   1,\r\n",
    "                 maxdepth=   10 )"
   ],
   "outputs": [],
   "metadata": {}
  },
  {
   "cell_type": "markdown",
   "source": [
    "Cargo los datos de 202111, para luego aplicarle el modelo"
   ],
   "metadata": {}
  },
  {
   "cell_type": "code",
   "execution_count": null,
   "source": [
    "dapply  <- fread(\"./datasetsOri/paquete_premium_202011.csv\")"
   ],
   "outputs": [],
   "metadata": {}
  },
  {
   "cell_type": "raw",
   "source": [
    "Aplico el modelo generado que esta en la variable \"modelo\"  a los datos \"dapply\""
   ],
   "metadata": {}
  },
  {
   "cell_type": "code",
   "execution_count": null,
   "source": [
    "prediccion  <- predict( modelo, dapply , type = \"prob\") #aplico el modelo"
   ],
   "outputs": [],
   "metadata": {}
  },
  {
   "cell_type": "markdown",
   "source": [
    "prediccion es una matriz con TRES columnas, llamadas \"BAJA+1\", \"BAJA+2\"  y \"CONTINUA\"\n",
    "cada columna es el vector de probabilidades "
   ],
   "metadata": {}
  },
  {
   "cell_type": "code",
   "execution_count": null,
   "source": [
    "dapply[ , prob_baja2 := prediccion[, \"BAJA+2\"] ]\r\n",
    "dapply[ , Predicted  := as.numeric(prob_baja2 > 0.025) ]\r\n",
    "\r\n",
    "entrega  <- dapply[   , list(numero_de_cliente, Predicted) ] #genero la salida\r\n",
    "\r\n",
    "#genero el archivo para Kaggle\r\n",
    "fwrite( entrega, file=\"./kaggle/K101_002.csv\", sep=\",\" )"
   ],
   "outputs": [],
   "metadata": {}
  }
 ],
 "metadata": {
  "kernelspec": {
   "name": "python3",
   "display_name": "Python 3.9.6 64-bit"
  },
  "language_info": {
   "codemirror_mode": "r",
   "file_extension": ".r",
   "mimetype": "text/x-r-source",
   "name": "python",
   "pygments_lexer": "r",
   "version": "3.9.6"
  },
  "interpreter": {
   "hash": "e40cd9d5192be611a74bf7691654d1753a39e26a00148b0b160e6df45ea7fee6"
  }
 },
 "nbformat": 4,
 "nbformat_minor": 4
}